{
 "cells": [
  {
   "cell_type": "code",
   "execution_count": null,
   "metadata": {},
   "outputs": [],
   "source": [
    "#Q - 1. What advantages do Excel spreadsheets have over CSV spreadsheets?\n",
    "#Answer:\n",
    "Below are few advantages of Excel spreadsheets over CSV spreadsheets:\n",
    "- Formatting - Excel spreadsheets have rich formatting options like bold, italics, font, color, borders etc while CSV files contain plain text data without formatting.\n",
    "- Formulas and Functions - Excel contains wide range of built-in formulas and functions that can be used for calculations, data analysis and automation. CSV files doesn't have this.\n",
    "- Multiple sheets and workbook - Excel provides multiple sheets within a single workbook to organize and handle data easily. CSV files are limited to a single sheet of data.\n",
    "- Data Protection and Security - Excel offers various security features to protect sensitive data, such as password protection for opening or modifying the file, and restricting access to specific cells or worksheets. CSV files do not provide built-in security features.\n",
    "- Charts and Graphs -  Excel offers a variety of charting options to visually represent data, including bar charts, line charts, pie charts, and more. While, CSV files do not have built-in charting capabilities, and external tools would be needed to generate charts from the data.\n"
   ]
  },
  {
   "cell_type": "code",
   "execution_count": null,
   "metadata": {},
   "outputs": [],
   "source": [
    "#Q - 2.What do you pass to csv.reader() and csv.writer() to create reader and writer objects?\n",
    "#Answer:\n",
    "To create reader and writer objects in the csv module, you need to pass file objects as parameters to the csv.reader() and csv.writer() functions, respectively."
   ]
  },
  {
   "cell_type": "code",
   "execution_count": null,
   "metadata": {},
   "outputs": [],
   "source": [
    "#Q - 3. What modes do File objects for reader and writer objects need to be opened in?\n",
    "#Answer:\n",
    "For reader and writer objects in the csv module, the file objects passed to csv.reader() and csv.writer() functions need to be opened in the following modes:\n",
    "csv.reader() - The file object for the reader needs to be opened in text mode with the mode 'r' or 'rt'. This mode allows reading the contents of the file as a text file.\n",
    "csv.writer() - The file object for the writer needs to be opened in text mode with the mode 'w' or 'wt'. This mode allows writing to the file and truncates the existing contents of the file. "
   ]
  },
  {
   "cell_type": "code",
   "execution_count": null,
   "metadata": {},
   "outputs": [],
   "source": [
    "#Q - 4. What method takes a list argument and writes it to a CSV file?\n",
    "#Answer:\n",
    "The csv.writer object provides a method called writerow() that takes a list as an argument and writes it as a row to a csv file"
   ]
  },
  {
   "cell_type": "code",
   "execution_count": null,
   "metadata": {},
   "outputs": [],
   "source": [
    "#Q - 5. What do the keyword arguments delimiter and line terminator do?\n",
    "#Answer:\n",
    "The keyword arguments delimiter and lineterminator are used in the csv.writer object to specify the delimiter character and line terminator for the CSV file being written.\n",
    "delimiter: The delimiter keyword argument is used to specify the character that separates the values in each row of the CSV file.\n",
    "lineterminator: The lineterminator keyword argument is used to specify the line terminator character(s) that indicate the end of each line in the CSV file. "
   ]
  },
  {
   "cell_type": "code",
   "execution_count": 6,
   "metadata": {},
   "outputs": [
    {
     "name": "stdout",
     "output_type": "stream",
     "text": [
      "b is:  zzz\n"
     ]
    }
   ],
   "source": [
    "#Q - 6. What function takes a string of JSON data and returns a Python data structure?\n",
    "#Answer:\n",
    "#The json.loads() function is used to take string of JSON data and returns a python data structure.\n",
    "import json\n",
    "\n",
    "j_data = '{\"a\":12,\"b\":\"zzz\",\"c\":78}'\n",
    "py_dstr = json.loads(j_data)\n",
    "print(\"b is: \",py_dstr['b'])"
   ]
  },
  {
   "cell_type": "code",
   "execution_count": null,
   "metadata": {},
   "outputs": [],
   "source": [
    "#Q - 7. What function takes a Python data structure and returns a string of JSON data?\n",
    "#Answer:\n",
    "The json.dumps() function is used to take a python data structure and returns a string of json data.\n"
   ]
  }
 ],
 "metadata": {
  "kernelspec": {
   "display_name": "Python 3.9.6 64-bit",
   "language": "python",
   "name": "python3"
  },
  "language_info": {
   "codemirror_mode": {
    "name": "ipython",
    "version": 3
   },
   "file_extension": ".py",
   "mimetype": "text/x-python",
   "name": "python",
   "nbconvert_exporter": "python",
   "pygments_lexer": "ipython3",
   "version": "3.9.6"
  },
  "orig_nbformat": 4,
  "vscode": {
   "interpreter": {
    "hash": "31f2aee4e71d21fbe5cf8b01ff0e069b9275f58929596ceb00d14d90e3e16cd6"
   }
  }
 },
 "nbformat": 4,
 "nbformat_minor": 2
}
